{
 "cells": [
  {
   "cell_type": "code",
   "execution_count": 217,
   "metadata": {},
   "outputs": [],
   "source": [
    "import numpy as np\n",
    "import pandas as pd\n",
    "import zarr\n",
    "import allel\n",
    "import pybedtools"
   ]
  },
  {
   "cell_type": "code",
   "execution_count": 218,
   "metadata": {},
   "outputs": [],
   "source": [
    "samples = pd.read_csv(\"~/ag1000g/data/samples.meta.txt\", sep=\"\\t\")"
   ]
  },
  {
   "cell_type": "markdown",
   "metadata": {},
   "source": [
    "As the current method of running LDNe in the snakemake pipeline requires subsetting the VCF (very slow), I will instead write a script to convert the zarr to .dat format for LDNe."
   ]
  },
  {
   "cell_type": "code",
   "execution_count": 236,
   "metadata": {},
   "outputs": [],
   "source": [
    "chrom='3L'\n",
    "\n",
    "Ag_store = zarr.open_array(f\"/home/sanj/ag1000g/data/ag1000g.phase2.ar1.pass/{chrom}/calldata/GT/\", mode = 'r')\n",
    "positions = allel.SortedIndex(zarr.open_array(f\"/home/sanj/ag1000g/data/ag1000g.phase2.ar1.pass/{chrom}/variants/POS\", mode='r'))\n",
    "\n",
    "ag_geno = allel.GenotypeChunkedArray(Ag_store)"
   ]
  },
  {
   "cell_type": "code",
   "execution_count": 237,
   "metadata": {},
   "outputs": [],
   "source": [
    "#filter the gff3 to be coding and regulatory regions\n",
    "df = allel.gff3_to_dataframe(\"/home/sanj/ag1000g/data/reference/Anopheles-gambiae-PEST_BASEFEATURES_AgamP4.12.gff3\")\n",
    "coding_reg_df = df[~df.type.isin(['chromosome', 'three_prime_UTR','five_prime_UTR',\n",
    "                  'mRNA', 'CDS', 'exon'])].drop(columns=['source', 'strand', 'phase', 'score'])\n",
    "coding_reg_df = coding_reg_df[coding_reg_df.seqid == chrom]\n",
    "\n",
    "centromere = (positions > 2000000) if chrom == '3L' else (positions > 50000000)\n",
    "positions = positions[centromere]\n",
    "#get boolean array for positions that are coding\n",
    "coding = positions.locate_ranges(coding_reg_df.start, coding_reg_df.end, strict=False)\n",
    "\n",
    "#compress to get noncoding SNPs\n",
    "ag_geno = ag_geno.compress(centromere, axis=0)\n",
    "ag_geno = ag_geno.compress(~coding, axis=0)"
   ]
  },
  {
   "cell_type": "markdown",
   "metadata": {},
   "source": [
    "Remove centromeric regions of low recombination\n",
    "\n",
    "Converting to .dat format for LDNe"
   ]
  },
  {
   "cell_type": "code",
   "execution_count": 238,
   "metadata": {},
   "outputs": [],
   "source": [
    "pops = samples.population.unique()"
   ]
  },
  {
   "cell_type": "code",
   "execution_count": 239,
   "metadata": {},
   "outputs": [],
   "source": [
    "pops = pops[2:3]"
   ]
  },
  {
   "cell_type": "code",
   "execution_count": 251,
   "metadata": {},
   "outputs": [
    {
     "name": "stdout",
     "output_type": "stream",
     "text": [
      "----------- Zarr to LDNe BFgam 3L ------------\n",
      "Compressing array to BFgam 3L\n",
      "Counting alleles\n",
      "Selecting segregating alleles\n",
      "Converting to .dat format\n",
      "Writing to file BFgam 3L\n"
     ]
    }
   ],
   "source": [
    "#pops = samples.population.unique()\n",
    "\n",
    "for pop in pops:\n",
    "    print(f\"----------- Zarr to LDNe {pop} {chrom} ------------\")\n",
    "    pop_bool = samples.population == pop\n",
    "    pop_geno = ag_geno.compress(pop_bool, axis=1)\n",
    "    print(f\"Compressing array to {pop} {chrom}\")\n",
    "    \n",
    "    ac = pop_geno.count_alleles() ; print(\"Counting alleles\")\n",
    "    seg = ac.is_segregating()\n",
    "    pop_geno = pop_geno.compress(seg, axis=0) ; print(\"Selecting segregating alleles\")\n",
    "\n",
    "    n = 10000  # number of SNPs to choose randomly\n",
    "    vidx = np.random.choice(pop_geno.shape[0], n, replace=False)\n",
    "    vidx.sort()\n",
    "    gnr = pop_geno.take(vidx, axis=0)\n",
    "    gnr = np.array(gnr[:])\n",
    "    gnr = gnr.astype(str)\n",
    "\n",
    "    pos = positions[~coding]\n",
    "    pos = pos[seg]\n",
    "    pos = pos[vidx]\n",
    "    prefix = f'{chrom}_'\n",
    "    pos_string = [prefix + p for p in pos.astype(str)]\n",
    "\n",
    "    \n",
    "    print(\"Converting to .dat format\")\n",
    "    dat = np.empty([gnr.shape[0], gnr.shape[1]])\n",
    "    \n",
    "    gnr[gnr == '-1'] = '00' # remove missing alleles\n",
    "    gnr[gnr == '0'] = '01' #convert to dat format allele numbering\n",
    "    gnr[gnr == '1'] = '02'\n",
    "    gnr[gnr == '2'] = '03'\n",
    "    gnr[gnr == '3'] = '04'\n",
    "    \n",
    "    for x in range(gnr.shape[0]):\n",
    "        for y in range(gnr.shape[1]):\n",
    "            dat[x,y] = ''.join(gnr[x,y])\n",
    "\n",
    "    dat = dat.astype(str)\n",
    "\n",
    "    popnames = np.repeat(f\"{pop}_{chrom}\", n)\n",
    "    dat = np.column_stack((popnames, dat))\n",
    "    print(f\"Writing to file {pop} {chrom}\")\n",
    "    with open(f'{pop}_{chrom}.dat', 'w') as datfile:\n",
    "        datfile.write(f'{gnr.shape[1]}\\t{gnr.shape[0]}\\t4\\t2\\n')\n",
    "        datfile.write(\"\\n\".join(\"\".join(map(str, x)) for x in pos_string)) \n",
    "        datfile.write(\"\\n\")\n",
    "        datfile.write(\"\\n\".join(\" \".join(map(str, x)) for x in dat))    "
   ]
  },
  {
   "cell_type": "code",
   "execution_count": null,
   "metadata": {},
   "outputs": [],
   "source": [
    " dat[dat == '0.0'] = '0101'\n",
    "    dat[dat == '1.0'] = '0102'\n",
    "    dat[dat == '2.0'] = '0103'\n",
    "    dat[dat == '3.0'] = '0104'\n",
    "    dat[dat == '10.0'] = '0201'\n",
    "    dat[dat == '11.0'] = '0202'\n",
    "    dat[dat == '12.0'] = '0203'\n",
    "    dat[dat == '13.0'] = '0204'\n",
    "    dat[dat == '20.0'] = '0301'\n",
    "    dat[dat == '21.0'] = '0302'\n",
    "    dat[dat == '22.0'] = '0303'\n",
    "    dat[dat == '23.0'] = '0304'\n",
    "    dat[dat == '30.0'] = '0401'\n",
    "    dat[dat == '31.0'] = '0402'\n",
    "    dat[dat == '32.0'] = '0403'\n",
    "    dat[dat == '33.0'] = '0404'"
   ]
  }
 ],
 "metadata": {
  "kernelspec": {
   "display_name": "Python 3",
   "language": "python",
   "name": "python3"
  },
  "language_info": {
   "codemirror_mode": {
    "name": "ipython",
    "version": 3
   },
   "file_extension": ".py",
   "mimetype": "text/x-python",
   "name": "python",
   "nbconvert_exporter": "python",
   "pygments_lexer": "ipython3",
   "version": "3.7.3"
  }
 },
 "nbformat": 4,
 "nbformat_minor": 2
}
