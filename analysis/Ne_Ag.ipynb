{
 "cells": [
  {
   "cell_type": "code",
   "execution_count": 54,
   "metadata": {},
   "outputs": [],
   "source": [
    "import numpy as np\n",
    "import pandas as pd; pd.set_option('display.max_rows', 10000)\n",
    "import allel \n",
    "import matplotlib.pyplot as plt\n",
    "import zarr\n",
    "import h5py\n",
    "import seaborn as sns\n",
    "from sklearn import metrics\n",
    "from tqdm import tqdm\n",
    "#from mpl_toolkits.basemap import Basemap"
   ]
  },
  {
   "cell_type": "code",
   "execution_count": 3,
   "metadata": {},
   "outputs": [],
   "source": [
    "%run \"~/ag1000g/selective_sweeps/scripts/sweeps_functions.py\"\n",
    "samples = pd.read_csv(\"../../data/samples.meta.txt\", sep='\\t')"
   ]
  },
  {
   "cell_type": "markdown",
   "metadata": {},
   "source": [
    "### Ne estimates from Ag1000g populations (LDNe)"
   ]
  },
  {
   "cell_type": "markdown",
   "metadata": {},
   "source": [
    "Estimates of effective population size were implemented in NeEstimator v2.1 (Do *et al*., 2014), using the Linkage Disequilibrium method (LDNe) of Waples and Do (2008). This method is widely used, and generally performs robustly in comparisons between single-sample estimators (see references for further reading)."
   ]
  },
  {
   "cell_type": "code",
   "execution_count": 65,
   "metadata": {},
   "outputs": [],
   "source": [
    "Ne = pd.read_csv(\"Ne_analyses.LDNe\", sep=\"\\t\")"
   ]
  },
  {
   "cell_type": "code",
   "execution_count": 73,
   "metadata": {
    "scrolled": false
   },
   "outputs": [
    {
     "data": {
      "text/html": [
       "<div>\n",
       "<style scoped>\n",
       "    .dataframe tbody tr th:only-of-type {\n",
       "        vertical-align: middle;\n",
       "    }\n",
       "\n",
       "    .dataframe tbody tr th {\n",
       "        vertical-align: top;\n",
       "    }\n",
       "\n",
       "    .dataframe thead th {\n",
       "        text-align: right;\n",
       "    }\n",
       "</style>\n",
       "<table border=\"1\" class=\"dataframe\">\n",
       "  <thead>\n",
       "    <tr style=\"text-align: right;\">\n",
       "      <th></th>\n",
       "      <th>AF</th>\n",
       "      <th>chrom</th>\n",
       "      <th>pop</th>\n",
       "      <th>sample_size</th>\n",
       "      <th>independent_comparisons</th>\n",
       "      <th>overall_r^2</th>\n",
       "      <th>expected_r^2</th>\n",
       "      <th>Ne_estimate</th>\n",
       "      <th>Parametric_CI_lower</th>\n",
       "      <th>Parametric_CI_upper</th>\n",
       "      <th>Jackknife_CI_lower</th>\n",
       "      <th>Jackknife_CI_upper</th>\n",
       "    </tr>\n",
       "  </thead>\n",
       "  <tbody>\n",
       "    <tr>\n",
       "      <th>0</th>\n",
       "      <td>minAF_0.05</td>\n",
       "      <td>3L</td>\n",
       "      <td>GHcol</td>\n",
       "      <td>55.0</td>\n",
       "      <td>6465956</td>\n",
       "      <td>0.019633</td>\n",
       "      <td>0.019242</td>\n",
       "      <td>851.2</td>\n",
       "      <td>806.9</td>\n",
       "      <td>900.7</td>\n",
       "      <td>338.5</td>\n",
       "      <td>Infinite</td>\n",
       "    </tr>\n",
       "    <tr>\n",
       "      <th>4</th>\n",
       "      <td>minAF_0.05</td>\n",
       "      <td>3R</td>\n",
       "      <td>GHcol</td>\n",
       "      <td>55.0</td>\n",
       "      <td>6705702</td>\n",
       "      <td>0.019729</td>\n",
       "      <td>0.019240</td>\n",
       "      <td>680.4</td>\n",
       "      <td>652.1</td>\n",
       "      <td>711.2</td>\n",
       "      <td>224.3</td>\n",
       "      <td>Infinite</td>\n",
       "    </tr>\n",
       "    <tr>\n",
       "      <th>8</th>\n",
       "      <td>minAF_0.05</td>\n",
       "      <td>3L</td>\n",
       "      <td>GHgam</td>\n",
       "      <td>12.0</td>\n",
       "      <td>13844967</td>\n",
       "      <td>0.109337</td>\n",
       "      <td>0.108240</td>\n",
       "      <td>279.1</td>\n",
       "      <td>259.7</td>\n",
       "      <td>301.6</td>\n",
       "      <td>98.9</td>\n",
       "      <td>Infinite</td>\n",
       "    </tr>\n",
       "    <tr>\n",
       "      <th>12</th>\n",
       "      <td>minAF_0.05</td>\n",
       "      <td>3R</td>\n",
       "      <td>GHgam</td>\n",
       "      <td>12.0</td>\n",
       "      <td>13760829</td>\n",
       "      <td>0.110819</td>\n",
       "      <td>0.108240</td>\n",
       "      <td>117.7</td>\n",
       "      <td>114.0</td>\n",
       "      <td>121.7</td>\n",
       "      <td>34.1</td>\n",
       "      <td>Infinite</td>\n",
       "    </tr>\n",
       "    <tr>\n",
       "      <th>16</th>\n",
       "      <td>minAF_0.05</td>\n",
       "      <td>3L</td>\n",
       "      <td>BFgam</td>\n",
       "      <td>92.0</td>\n",
       "      <td>2357246</td>\n",
       "      <td>0.011382</td>\n",
       "      <td>0.011249</td>\n",
       "      <td>2503.3</td>\n",
       "      <td>2167.7</td>\n",
       "      <td>2960.1</td>\n",
       "      <td>1317.0</td>\n",
       "      <td>21833.9</td>\n",
       "    </tr>\n",
       "    <tr>\n",
       "      <th>20</th>\n",
       "      <td>minAF_0.05</td>\n",
       "      <td>3R</td>\n",
       "      <td>BFgam</td>\n",
       "      <td>92.0</td>\n",
       "      <td>2520667</td>\n",
       "      <td>0.011443</td>\n",
       "      <td>0.011247</td>\n",
       "      <td>1699.6</td>\n",
       "      <td>1541.9</td>\n",
       "      <td>1892.6</td>\n",
       "      <td>1040.1</td>\n",
       "      <td>4508.3</td>\n",
       "    </tr>\n",
       "    <tr>\n",
       "      <th>24</th>\n",
       "      <td>minAF_0.05</td>\n",
       "      <td>3L</td>\n",
       "      <td>BFcol</td>\n",
       "      <td>75.0</td>\n",
       "      <td>3364929</td>\n",
       "      <td>0.013900</td>\n",
       "      <td>0.013903</td>\n",
       "      <td>Infinite</td>\n",
       "      <td>17897.2</td>\n",
       "      <td>Infinite</td>\n",
       "      <td>10892.7</td>\n",
       "      <td>Infinite</td>\n",
       "    </tr>\n",
       "    <tr>\n",
       "      <th>28</th>\n",
       "      <td>minAF_0.05</td>\n",
       "      <td>3R</td>\n",
       "      <td>BFcol</td>\n",
       "      <td>75.0</td>\n",
       "      <td>3173472</td>\n",
       "      <td>0.013897</td>\n",
       "      <td>0.013902</td>\n",
       "      <td>Infinite</td>\n",
       "      <td>19659.2</td>\n",
       "      <td>Infinite</td>\n",
       "      <td>9299.5</td>\n",
       "      <td>Infinite</td>\n",
       "    </tr>\n",
       "    <tr>\n",
       "      <th>32</th>\n",
       "      <td>minAF_0.05</td>\n",
       "      <td>3L</td>\n",
       "      <td>UGgam</td>\n",
       "      <td>112.0</td>\n",
       "      <td>2733796</td>\n",
       "      <td>0.009316</td>\n",
       "      <td>0.009184</td>\n",
       "      <td>2515.7</td>\n",
       "      <td>2249.7</td>\n",
       "      <td>2851.9</td>\n",
       "      <td>1960.6</td>\n",
       "      <td>3500.0</td>\n",
       "    </tr>\n",
       "    <tr>\n",
       "      <th>36</th>\n",
       "      <td>minAF_0.05</td>\n",
       "      <td>3R</td>\n",
       "      <td>UGgam</td>\n",
       "      <td>112.0</td>\n",
       "      <td>2759529</td>\n",
       "      <td>0.009329</td>\n",
       "      <td>0.009184</td>\n",
       "      <td>2304.8</td>\n",
       "      <td>2080.2</td>\n",
       "      <td>2583.0</td>\n",
       "      <td>1798.6</td>\n",
       "      <td>3198.8</td>\n",
       "    </tr>\n",
       "    <tr>\n",
       "      <th>40</th>\n",
       "      <td>minAF_0.05</td>\n",
       "      <td>3L</td>\n",
       "      <td>GM</td>\n",
       "      <td>65.0</td>\n",
       "      <td>7224108</td>\n",
       "      <td>0.016487</td>\n",
       "      <td>0.016144</td>\n",
       "      <td>969.9</td>\n",
       "      <td>924.0</td>\n",
       "      <td>1020.6</td>\n",
       "      <td>783.3</td>\n",
       "      <td>1269.9</td>\n",
       "    </tr>\n",
       "    <tr>\n",
       "      <th>44</th>\n",
       "      <td>minAF_0.05</td>\n",
       "      <td>3R</td>\n",
       "      <td>GM</td>\n",
       "      <td>65.0</td>\n",
       "      <td>7032124</td>\n",
       "      <td>0.016495</td>\n",
       "      <td>0.016142</td>\n",
       "      <td>941.7</td>\n",
       "      <td>897.7</td>\n",
       "      <td>990.1</td>\n",
       "      <td>772.6</td>\n",
       "      <td>1202.8</td>\n",
       "    </tr>\n",
       "    <tr>\n",
       "      <th>48</th>\n",
       "      <td>minAF_0.05</td>\n",
       "      <td>3L</td>\n",
       "      <td>GW</td>\n",
       "      <td>91.0</td>\n",
       "      <td>3472359</td>\n",
       "      <td>0.011460</td>\n",
       "      <td>0.011377</td>\n",
       "      <td>4054.2</td>\n",
       "      <td>3356.7</td>\n",
       "      <td>5114.4</td>\n",
       "      <td>2338.7</td>\n",
       "      <td>14862.7</td>\n",
       "    </tr>\n",
       "    <tr>\n",
       "      <th>52</th>\n",
       "      <td>minAF_0.05</td>\n",
       "      <td>3R</td>\n",
       "      <td>GW</td>\n",
       "      <td>91.0</td>\n",
       "      <td>3313357</td>\n",
       "      <td>0.011451</td>\n",
       "      <td>0.011377</td>\n",
       "      <td>4499.7</td>\n",
       "      <td>3640.9</td>\n",
       "      <td>5884.4</td>\n",
       "      <td>3051.0</td>\n",
       "      <td>8529.8</td>\n",
       "    </tr>\n",
       "    <tr>\n",
       "      <th>56</th>\n",
       "      <td>minAF_0.05</td>\n",
       "      <td>3L</td>\n",
       "      <td>KE</td>\n",
       "      <td>47.9</td>\n",
       "      <td>32846653</td>\n",
       "      <td>0.091654</td>\n",
       "      <td>0.022243</td>\n",
       "      <td>2.4</td>\n",
       "      <td>2.4</td>\n",
       "      <td>2.4</td>\n",
       "      <td>2.0</td>\n",
       "      <td>2.9</td>\n",
       "    </tr>\n",
       "    <tr>\n",
       "      <th>60</th>\n",
       "      <td>minAF_0.05</td>\n",
       "      <td>3R</td>\n",
       "      <td>KE</td>\n",
       "      <td>47.9</td>\n",
       "      <td>32401945</td>\n",
       "      <td>0.082808</td>\n",
       "      <td>0.022257</td>\n",
       "      <td>2.8</td>\n",
       "      <td>2.8</td>\n",
       "      <td>2.8</td>\n",
       "      <td>2.5</td>\n",
       "      <td>3.1</td>\n",
       "    </tr>\n",
       "    <tr>\n",
       "      <th>64</th>\n",
       "      <td>minAF_0.05</td>\n",
       "      <td>3L</td>\n",
       "      <td>CMgam</td>\n",
       "      <td>296.9</td>\n",
       "      <td>1173773</td>\n",
       "      <td>0.003866</td>\n",
       "      <td>0.003404</td>\n",
       "      <td>719.7</td>\n",
       "      <td>704.5</td>\n",
       "      <td>735.4</td>\n",
       "      <td>512.2</td>\n",
       "      <td>1154.8</td>\n",
       "    </tr>\n",
       "    <tr>\n",
       "      <th>68</th>\n",
       "      <td>minAF_0.05</td>\n",
       "      <td>3R</td>\n",
       "      <td>CMgam</td>\n",
       "      <td>297.0</td>\n",
       "      <td>1418274</td>\n",
       "      <td>0.003862</td>\n",
       "      <td>0.003404</td>\n",
       "      <td>724.6</td>\n",
       "      <td>710.6</td>\n",
       "      <td>739.1</td>\n",
       "      <td>531.3</td>\n",
       "      <td>1099.7</td>\n",
       "    </tr>\n",
       "    <tr>\n",
       "      <th>72</th>\n",
       "      <td>minAF_0.05</td>\n",
       "      <td>3L</td>\n",
       "      <td>FRgam</td>\n",
       "      <td>23.9</td>\n",
       "      <td>26558969</td>\n",
       "      <td>0.050407</td>\n",
       "      <td>0.047380</td>\n",
       "      <td>100.0</td>\n",
       "      <td>99.1</td>\n",
       "      <td>100.9</td>\n",
       "      <td>74.5</td>\n",
       "      <td>148.9</td>\n",
       "    </tr>\n",
       "    <tr>\n",
       "      <th>76</th>\n",
       "      <td>minAF_0.05</td>\n",
       "      <td>3R</td>\n",
       "      <td>FRgam</td>\n",
       "      <td>24.0</td>\n",
       "      <td>26472933</td>\n",
       "      <td>0.050118</td>\n",
       "      <td>0.047365</td>\n",
       "      <td>110.2</td>\n",
       "      <td>109.1</td>\n",
       "      <td>111.3</td>\n",
       "      <td>87.3</td>\n",
       "      <td>147.7</td>\n",
       "    </tr>\n",
       "    <tr>\n",
       "      <th>80</th>\n",
       "      <td>minAF_0.05</td>\n",
       "      <td>3L</td>\n",
       "      <td>GQgam</td>\n",
       "      <td>9.0</td>\n",
       "      <td>48459356</td>\n",
       "      <td>0.154416</td>\n",
       "      <td>0.157458</td>\n",
       "      <td>Infinite</td>\n",
       "      <td>Infinite</td>\n",
       "      <td>Infinite</td>\n",
       "      <td>Infinite</td>\n",
       "      <td>Infinite</td>\n",
       "    </tr>\n",
       "    <tr>\n",
       "      <th>84</th>\n",
       "      <td>minAF_0.05</td>\n",
       "      <td>3R</td>\n",
       "      <td>GQgam</td>\n",
       "      <td>9.0</td>\n",
       "      <td>48537974</td>\n",
       "      <td>0.153615</td>\n",
       "      <td>0.157459</td>\n",
       "      <td>Infinite</td>\n",
       "      <td>Infinite</td>\n",
       "      <td>Infinite</td>\n",
       "      <td>Infinite</td>\n",
       "      <td>Infinite</td>\n",
       "    </tr>\n",
       "    <tr>\n",
       "      <th>88</th>\n",
       "      <td>minAF_0.05</td>\n",
       "      <td>3L</td>\n",
       "      <td>AOcol</td>\n",
       "      <td>77.9</td>\n",
       "      <td>14273114</td>\n",
       "      <td>0.014688</td>\n",
       "      <td>0.013353</td>\n",
       "      <td>247.6</td>\n",
       "      <td>245.6</td>\n",
       "      <td>249.6</td>\n",
       "      <td>134.5</td>\n",
       "      <td>969.3</td>\n",
       "    </tr>\n",
       "    <tr>\n",
       "      <th>92</th>\n",
       "      <td>minAF_0.05</td>\n",
       "      <td>3R</td>\n",
       "      <td>AOcol</td>\n",
       "      <td>78.0</td>\n",
       "      <td>13980043</td>\n",
       "      <td>0.014446</td>\n",
       "      <td>0.013352</td>\n",
       "      <td>302.8</td>\n",
       "      <td>299.8</td>\n",
       "      <td>305.8</td>\n",
       "      <td>165.8</td>\n",
       "      <td>1198.5</td>\n",
       "    </tr>\n",
       "    <tr>\n",
       "      <th>96</th>\n",
       "      <td>minAF_0.05</td>\n",
       "      <td>3L</td>\n",
       "      <td>GAgam</td>\n",
       "      <td>69.0</td>\n",
       "      <td>12979310</td>\n",
       "      <td>0.016144</td>\n",
       "      <td>0.015169</td>\n",
       "      <td>339.8</td>\n",
       "      <td>335.5</td>\n",
       "      <td>344.2</td>\n",
       "      <td>300.4</td>\n",
       "      <td>390.3</td>\n",
       "    </tr>\n",
       "    <tr>\n",
       "      <th>100</th>\n",
       "      <td>minAF_0.05</td>\n",
       "      <td>3R</td>\n",
       "      <td>GAgam</td>\n",
       "      <td>69.0</td>\n",
       "      <td>13661517</td>\n",
       "      <td>0.016277</td>\n",
       "      <td>0.015166</td>\n",
       "      <td>298.1</td>\n",
       "      <td>294.9</td>\n",
       "      <td>301.5</td>\n",
       "      <td>246.7</td>\n",
       "      <td>374.4</td>\n",
       "    </tr>\n",
       "    <tr>\n",
       "      <th>104</th>\n",
       "      <td>minAF_0.05</td>\n",
       "      <td>3L</td>\n",
       "      <td>GNgam</td>\n",
       "      <td>40.0</td>\n",
       "      <td>5535111</td>\n",
       "      <td>0.027801</td>\n",
       "      <td>0.026998</td>\n",
       "      <td>413.3</td>\n",
       "      <td>397.0</td>\n",
       "      <td>431.0</td>\n",
       "      <td>126.5</td>\n",
       "      <td>Infinite</td>\n",
       "    </tr>\n",
       "    <tr>\n",
       "      <th>108</th>\n",
       "      <td>minAF_0.05</td>\n",
       "      <td>3R</td>\n",
       "      <td>GNgam</td>\n",
       "      <td>40.0</td>\n",
       "      <td>6069802</td>\n",
       "      <td>0.027729</td>\n",
       "      <td>0.026998</td>\n",
       "      <td>453.8</td>\n",
       "      <td>435.2</td>\n",
       "      <td>474.1</td>\n",
       "      <td>153.0</td>\n",
       "      <td>Infinite</td>\n",
       "    </tr>\n",
       "    <tr>\n",
       "      <th>112</th>\n",
       "      <td>minAF_0.05</td>\n",
       "      <td>3L</td>\n",
       "      <td>GNcol</td>\n",
       "      <td>4.0</td>\n",
       "      <td>43216582</td>\n",
       "      <td>0.489878</td>\n",
       "      <td>0.506153</td>\n",
       "      <td>Infinite</td>\n",
       "      <td>Infinite</td>\n",
       "      <td>Infinite</td>\n",
       "      <td>7.4</td>\n",
       "      <td>Infinite</td>\n",
       "    </tr>\n",
       "    <tr>\n",
       "      <th>116</th>\n",
       "      <td>minAF_0.05</td>\n",
       "      <td>3R</td>\n",
       "      <td>GNcol</td>\n",
       "      <td>4.0</td>\n",
       "      <td>43406665</td>\n",
       "      <td>0.508447</td>\n",
       "      <td>0.506081</td>\n",
       "      <td>128.5</td>\n",
       "      <td>117.7</td>\n",
       "      <td>141.4</td>\n",
       "      <td>18.6</td>\n",
       "      <td>Infinite</td>\n",
       "    </tr>\n",
       "    <tr>\n",
       "      <th>120</th>\n",
       "      <td>minAF_0.05</td>\n",
       "      <td>3L</td>\n",
       "      <td>CIcol</td>\n",
       "      <td>71.0</td>\n",
       "      <td>5478908</td>\n",
       "      <td>0.014825</td>\n",
       "      <td>0.014721</td>\n",
       "      <td>3203.3</td>\n",
       "      <td>2740.0</td>\n",
       "      <td>3853.7</td>\n",
       "      <td>2252.3</td>\n",
       "      <td>5524.2</td>\n",
       "    </tr>\n",
       "    <tr>\n",
       "      <th>124</th>\n",
       "      <td>minAF_0.05</td>\n",
       "      <td>3R</td>\n",
       "      <td>CIcol</td>\n",
       "      <td>71.0</td>\n",
       "      <td>5143423</td>\n",
       "      <td>0.014823</td>\n",
       "      <td>0.014720</td>\n",
       "      <td>3204.5</td>\n",
       "      <td>2728.2</td>\n",
       "      <td>3880.6</td>\n",
       "      <td>2325.1</td>\n",
       "      <td>5139.5</td>\n",
       "    </tr>\n",
       "  </tbody>\n",
       "</table>\n",
       "</div>"
      ],
      "text/plain": [
       "             AF chrom    pop  sample_size  independent_comparisons  \\\n",
       "0    minAF_0.05    3L  GHcol         55.0                  6465956   \n",
       "4    minAF_0.05    3R  GHcol         55.0                  6705702   \n",
       "8    minAF_0.05    3L  GHgam         12.0                 13844967   \n",
       "12   minAF_0.05    3R  GHgam         12.0                 13760829   \n",
       "16   minAF_0.05    3L  BFgam         92.0                  2357246   \n",
       "20   minAF_0.05    3R  BFgam         92.0                  2520667   \n",
       "24   minAF_0.05    3L  BFcol         75.0                  3364929   \n",
       "28   minAF_0.05    3R  BFcol         75.0                  3173472   \n",
       "32   minAF_0.05    3L  UGgam        112.0                  2733796   \n",
       "36   minAF_0.05    3R  UGgam        112.0                  2759529   \n",
       "40   minAF_0.05    3L     GM         65.0                  7224108   \n",
       "44   minAF_0.05    3R     GM         65.0                  7032124   \n",
       "48   minAF_0.05    3L     GW         91.0                  3472359   \n",
       "52   minAF_0.05    3R     GW         91.0                  3313357   \n",
       "56   minAF_0.05    3L     KE         47.9                 32846653   \n",
       "60   minAF_0.05    3R     KE         47.9                 32401945   \n",
       "64   minAF_0.05    3L  CMgam        296.9                  1173773   \n",
       "68   minAF_0.05    3R  CMgam        297.0                  1418274   \n",
       "72   minAF_0.05    3L  FRgam         23.9                 26558969   \n",
       "76   minAF_0.05    3R  FRgam         24.0                 26472933   \n",
       "80   minAF_0.05    3L  GQgam          9.0                 48459356   \n",
       "84   minAF_0.05    3R  GQgam          9.0                 48537974   \n",
       "88   minAF_0.05    3L  AOcol         77.9                 14273114   \n",
       "92   minAF_0.05    3R  AOcol         78.0                 13980043   \n",
       "96   minAF_0.05    3L  GAgam         69.0                 12979310   \n",
       "100  minAF_0.05    3R  GAgam         69.0                 13661517   \n",
       "104  minAF_0.05    3L  GNgam         40.0                  5535111   \n",
       "108  minAF_0.05    3R  GNgam         40.0                  6069802   \n",
       "112  minAF_0.05    3L  GNcol          4.0                 43216582   \n",
       "116  minAF_0.05    3R  GNcol          4.0                 43406665   \n",
       "120  minAF_0.05    3L  CIcol         71.0                  5478908   \n",
       "124  minAF_0.05    3R  CIcol         71.0                  5143423   \n",
       "\n",
       "     overall_r^2  expected_r^2 Ne_estimate Parametric_CI_lower  \\\n",
       "0       0.019633      0.019242       851.2               806.9   \n",
       "4       0.019729      0.019240       680.4               652.1   \n",
       "8       0.109337      0.108240       279.1               259.7   \n",
       "12      0.110819      0.108240       117.7               114.0   \n",
       "16      0.011382      0.011249      2503.3              2167.7   \n",
       "20      0.011443      0.011247      1699.6              1541.9   \n",
       "24      0.013900      0.013903    Infinite             17897.2   \n",
       "28      0.013897      0.013902    Infinite             19659.2   \n",
       "32      0.009316      0.009184      2515.7              2249.7   \n",
       "36      0.009329      0.009184      2304.8              2080.2   \n",
       "40      0.016487      0.016144       969.9               924.0   \n",
       "44      0.016495      0.016142       941.7               897.7   \n",
       "48      0.011460      0.011377      4054.2              3356.7   \n",
       "52      0.011451      0.011377      4499.7              3640.9   \n",
       "56      0.091654      0.022243         2.4                 2.4   \n",
       "60      0.082808      0.022257         2.8                 2.8   \n",
       "64      0.003866      0.003404       719.7               704.5   \n",
       "68      0.003862      0.003404       724.6               710.6   \n",
       "72      0.050407      0.047380       100.0                99.1   \n",
       "76      0.050118      0.047365       110.2               109.1   \n",
       "80      0.154416      0.157458    Infinite            Infinite   \n",
       "84      0.153615      0.157459    Infinite            Infinite   \n",
       "88      0.014688      0.013353       247.6               245.6   \n",
       "92      0.014446      0.013352       302.8               299.8   \n",
       "96      0.016144      0.015169       339.8               335.5   \n",
       "100     0.016277      0.015166       298.1               294.9   \n",
       "104     0.027801      0.026998       413.3               397.0   \n",
       "108     0.027729      0.026998       453.8               435.2   \n",
       "112     0.489878      0.506153    Infinite            Infinite   \n",
       "116     0.508447      0.506081       128.5               117.7   \n",
       "120     0.014825      0.014721      3203.3              2740.0   \n",
       "124     0.014823      0.014720      3204.5              2728.2   \n",
       "\n",
       "    Parametric_CI_upper Jackknife_CI_lower Jackknife_CI_upper  \n",
       "0                 900.7              338.5           Infinite  \n",
       "4                 711.2              224.3           Infinite  \n",
       "8                 301.6               98.9           Infinite  \n",
       "12                121.7               34.1           Infinite  \n",
       "16               2960.1             1317.0            21833.9  \n",
       "20               1892.6             1040.1             4508.3  \n",
       "24             Infinite            10892.7           Infinite  \n",
       "28             Infinite             9299.5           Infinite  \n",
       "32               2851.9             1960.6             3500.0  \n",
       "36               2583.0             1798.6             3198.8  \n",
       "40               1020.6              783.3             1269.9  \n",
       "44                990.1              772.6             1202.8  \n",
       "48               5114.4             2338.7            14862.7  \n",
       "52               5884.4             3051.0             8529.8  \n",
       "56                  2.4                2.0                2.9  \n",
       "60                  2.8                2.5                3.1  \n",
       "64                735.4              512.2             1154.8  \n",
       "68                739.1              531.3             1099.7  \n",
       "72                100.9               74.5              148.9  \n",
       "76                111.3               87.3              147.7  \n",
       "80             Infinite           Infinite           Infinite  \n",
       "84             Infinite           Infinite           Infinite  \n",
       "88                249.6              134.5              969.3  \n",
       "92                305.8              165.8             1198.5  \n",
       "96                344.2              300.4              390.3  \n",
       "100               301.5              246.7              374.4  \n",
       "104               431.0              126.5           Infinite  \n",
       "108               474.1              153.0           Infinite  \n",
       "112            Infinite                7.4           Infinite  \n",
       "116               141.4               18.6           Infinite  \n",
       "120              3853.7             2252.3             5524.2  \n",
       "124              3880.6             2325.1             5139.5  "
      ]
     },
     "execution_count": 73,
     "metadata": {},
     "output_type": "execute_result"
    }
   ],
   "source": [
    "Ne[Ne['AF'] == 'minAF_0.05']"
   ]
  },
  {
   "cell_type": "markdown",
   "metadata": {},
   "source": [
    "Be aware that both methods to produce confidence intervals, the parametric and pseudo-jackknife method, may be suboptimal (Jones *et al*., 2016), unfortunately, the amendments they suggest have not yet been implemented."
   ]
  },
  {
   "cell_type": "markdown",
   "metadata": {},
   "source": [
    "### estimating Ne from theta=4Nemu"
   ]
  },
  {
   "cell_type": "code",
   "execution_count": 59,
   "metadata": {
    "collapsed": true
   },
   "outputs": [
    {
     "name": "stderr",
     "output_type": "stream",
     "text": [
      "\n",
      "\n",
      "  0%|          | 0/16 [00:00<?, ?it/s]\u001b[A\u001b[A\n",
      "\n",
      "\n",
      "  0%|          | 0/2 [00:00<?, ?it/s]\u001b[A\u001b[A\u001b[A"
     ]
    },
    {
     "name": "stdout",
     "output_type": "stream",
     "text": [
      "-------------------  Arrays loaded ------------------------\n",
      "Counting alleles GHcol 3L\n",
      "Computing theta\n"
     ]
    },
    {
     "name": "stderr",
     "output_type": "stream",
     "text": [
      "\n",
      "\n",
      "\n",
      " 50%|█████     | 1/2 [00:55<00:55, 55.29s/it]\u001b[A\u001b[A\u001b[A"
     ]
    },
    {
     "name": "stdout",
     "output_type": "stream",
     "text": [
      "done\n",
      "Counting alleles GHcol 3R\n",
      "Computing theta\n"
     ]
    },
    {
     "name": "stderr",
     "output_type": "stream",
     "text": [
      "\n",
      "\n",
      "\n",
      "100%|██████████| 2/2 [01:55<00:00, 57.91s/it]\u001b[A\u001b[A\u001b[A\n",
      "\n",
      "\n",
      "  6%|▋         | 1/16 [01:55<28:57, 115.83s/it]\u001b[A\u001b[A\n",
      "\n",
      "\n",
      "  0%|          | 0/2 [00:00<?, ?it/s]\u001b[A\u001b[A\u001b[A"
     ]
    },
    {
     "name": "stdout",
     "output_type": "stream",
     "text": [
      "done\n",
      "Counting alleles GHgam 3L\n",
      "Computing theta\n"
     ]
    },
    {
     "name": "stderr",
     "output_type": "stream",
     "text": [
      "\n",
      "\n",
      "\n",
      " 50%|█████     | 1/2 [00:50<00:50, 50.30s/it]\u001b[A\u001b[A\u001b[A"
     ]
    },
    {
     "name": "stdout",
     "output_type": "stream",
     "text": [
      "done\n",
      "Counting alleles GHgam 3R\n",
      "Computing theta\n"
     ]
    },
    {
     "name": "stderr",
     "output_type": "stream",
     "text": [
      "\n",
      "\n",
      "\n",
      "100%|██████████| 2/2 [01:41<00:00, 50.55s/it]\u001b[A\u001b[A\u001b[A\n",
      "\n",
      "\n",
      " 12%|█▎        | 2/16 [03:36<25:59, 111.41s/it]\u001b[A\u001b[A\n",
      "\n",
      "\n",
      "  0%|          | 0/2 [00:00<?, ?it/s]\u001b[A\u001b[A\u001b[A"
     ]
    },
    {
     "name": "stdout",
     "output_type": "stream",
     "text": [
      "done\n",
      "Counting alleles BFgam 3L\n",
      "Computing theta\n"
     ]
    },
    {
     "name": "stderr",
     "output_type": "stream",
     "text": [
      "\n",
      "\n",
      "\n",
      " 50%|█████     | 1/2 [01:17<01:17, 77.86s/it]\u001b[A\u001b[A\u001b[A"
     ]
    },
    {
     "name": "stdout",
     "output_type": "stream",
     "text": [
      "done\n",
      "Counting alleles BFgam 3R\n",
      "Computing theta\n"
     ]
    },
    {
     "name": "stderr",
     "output_type": "stream",
     "text": [
      "\n",
      "\n",
      "\n",
      "100%|██████████| 2/2 [02:45<00:00, 82.50s/it]\u001b[A\u001b[A\u001b[A\n",
      "\n",
      "\n",
      " 19%|█▉        | 3/16 [06:21<27:37, 127.49s/it]\u001b[A\u001b[A\n",
      "\n",
      "\n",
      "  0%|          | 0/2 [00:00<?, ?it/s]\u001b[A\u001b[A\u001b[A"
     ]
    },
    {
     "name": "stdout",
     "output_type": "stream",
     "text": [
      "done\n",
      "Counting alleles BFcol 3L\n",
      "Computing theta\n"
     ]
    },
    {
     "name": "stderr",
     "output_type": "stream",
     "text": [
      "\n",
      "\n",
      "\n",
      " 50%|█████     | 1/2 [01:22<01:22, 82.20s/it]\u001b[A\u001b[A\u001b[A"
     ]
    },
    {
     "name": "stdout",
     "output_type": "stream",
     "text": [
      "done\n",
      "Counting alleles BFcol 3R\n",
      "Computing theta\n"
     ]
    },
    {
     "name": "stderr",
     "output_type": "stream",
     "text": [
      "\n",
      "\n",
      "\n",
      "100%|██████████| 2/2 [02:51<00:00, 85.80s/it]\u001b[A\u001b[A\u001b[A\n",
      "\n",
      "\n",
      " 25%|██▌       | 4/16 [09:13<28:08, 140.73s/it]\u001b[A\u001b[A\n",
      "\n",
      "\n",
      "  0%|          | 0/2 [00:00<?, ?it/s]\u001b[A\u001b[A\u001b[A"
     ]
    },
    {
     "name": "stdout",
     "output_type": "stream",
     "text": [
      "done\n",
      "Counting alleles UGgam 3L\n",
      "Computing theta\n"
     ]
    },
    {
     "name": "stderr",
     "output_type": "stream",
     "text": [
      "\n",
      "\n",
      "\n",
      " 50%|█████     | 1/2 [01:47<01:47, 107.39s/it]\u001b[A\u001b[A\u001b[A"
     ]
    },
    {
     "name": "stdout",
     "output_type": "stream",
     "text": [
      "done\n",
      "Counting alleles UGgam 3R\n",
      "Computing theta\n"
     ]
    },
    {
     "name": "stderr",
     "output_type": "stream",
     "text": [
      "\n",
      "\n",
      "\n",
      "100%|██████████| 2/2 [03:11<00:00, 95.54s/it] \u001b[A\u001b[A\u001b[A\n",
      "\n",
      "\n",
      " 31%|███▏      | 5/16 [12:24<28:34, 155.84s/it]\u001b[A\u001b[A\n",
      "\n",
      "\n",
      "  0%|          | 0/2 [00:00<?, ?it/s]\u001b[A\u001b[A\u001b[A"
     ]
    },
    {
     "name": "stdout",
     "output_type": "stream",
     "text": [
      "done\n",
      "Counting alleles GM 3L\n",
      "Computing theta\n"
     ]
    },
    {
     "name": "stderr",
     "output_type": "stream",
     "text": [
      "\n",
      "\n",
      "\n",
      " 50%|█████     | 1/2 [01:12<01:12, 72.23s/it]\u001b[A\u001b[A\u001b[A"
     ]
    },
    {
     "name": "stdout",
     "output_type": "stream",
     "text": [
      "done\n",
      "Counting alleles GM 3R\n",
      "Computing theta\n"
     ]
    },
    {
     "name": "stderr",
     "output_type": "stream",
     "text": [
      "\n",
      "\n",
      "\n",
      "100%|██████████| 2/2 [02:27<00:00, 73.63s/it]\u001b[A\u001b[A\u001b[A\n",
      "\n",
      "\n",
      " 38%|███▊      | 6/16 [14:51<25:32, 153.27s/it]\u001b[A\u001b[A\n",
      "\n",
      "\n",
      "  0%|          | 0/2 [00:00<?, ?it/s]\u001b[A\u001b[A\u001b[A"
     ]
    },
    {
     "name": "stdout",
     "output_type": "stream",
     "text": [
      "done\n",
      "Counting alleles GW 3L\n",
      "Computing theta\n"
     ]
    },
    {
     "name": "stderr",
     "output_type": "stream",
     "text": [
      "\n",
      "\n",
      "\n",
      " 50%|█████     | 1/2 [01:21<01:21, 81.61s/it]\u001b[A\u001b[A\u001b[A"
     ]
    },
    {
     "name": "stdout",
     "output_type": "stream",
     "text": [
      "done\n",
      "Counting alleles GW 3R\n",
      "Computing theta\n"
     ]
    },
    {
     "name": "stderr",
     "output_type": "stream",
     "text": [
      "\n",
      "\n",
      "\n",
      "100%|██████████| 2/2 [02:40<00:00, 80.43s/it]\u001b[A\u001b[A\u001b[A\n",
      "\n",
      "\n",
      " 44%|████▍     | 7/16 [17:32<23:19, 155.55s/it]\u001b[A\u001b[A\n",
      "\n",
      "\n",
      "  0%|          | 0/2 [00:00<?, ?it/s]\u001b[A\u001b[A\u001b[A"
     ]
    },
    {
     "name": "stdout",
     "output_type": "stream",
     "text": [
      "done\n",
      "Counting alleles KE 3L\n",
      "Computing theta\n"
     ]
    },
    {
     "name": "stderr",
     "output_type": "stream",
     "text": [
      "\n",
      "\n",
      "\n",
      " 50%|█████     | 1/2 [01:00<01:00, 60.36s/it]\u001b[A\u001b[A\u001b[A"
     ]
    },
    {
     "name": "stdout",
     "output_type": "stream",
     "text": [
      "done\n",
      "Counting alleles KE 3R\n",
      "Computing theta\n"
     ]
    },
    {
     "name": "stderr",
     "output_type": "stream",
     "text": [
      "\n",
      "\n",
      "\n",
      "100%|██████████| 2/2 [02:02<00:00, 61.25s/it]\u001b[A\u001b[A\u001b[A\n",
      "\n",
      "\n",
      " 50%|█████     | 8/16 [19:35<19:25, 145.63s/it]\u001b[A\u001b[A\n",
      "\n",
      "\n",
      "  0%|          | 0/2 [00:00<?, ?it/s]\u001b[A\u001b[A\u001b[A"
     ]
    },
    {
     "name": "stdout",
     "output_type": "stream",
     "text": [
      "done\n",
      "Counting alleles CMgam 3L\n",
      "Computing theta\n"
     ]
    },
    {
     "name": "stderr",
     "output_type": "stream",
     "text": [
      "\n",
      "\n",
      "\n",
      " 50%|█████     | 1/2 [02:23<02:23, 143.25s/it]\u001b[A\u001b[A\u001b[A"
     ]
    },
    {
     "name": "stdout",
     "output_type": "stream",
     "text": [
      "done\n",
      "Counting alleles CMgam 3R\n",
      "Computing theta\n"
     ]
    },
    {
     "name": "stderr",
     "output_type": "stream",
     "text": [
      "\n",
      "\n",
      "\n",
      "100%|██████████| 2/2 [04:51<00:00, 145.71s/it]\u001b[A\u001b[A\u001b[A\n",
      "\n",
      "\n",
      " 56%|█████▋    | 9/16 [24:26<22:05, 189.37s/it]\u001b[A\u001b[A\n",
      "\n",
      "\n",
      "  0%|          | 0/2 [00:00<?, ?it/s]\u001b[A\u001b[A\u001b[A"
     ]
    },
    {
     "name": "stdout",
     "output_type": "stream",
     "text": [
      "done\n",
      "Counting alleles FRgam 3L\n",
      "Computing theta\n"
     ]
    },
    {
     "name": "stderr",
     "output_type": "stream",
     "text": [
      "\n",
      "\n",
      "\n",
      " 50%|█████     | 1/2 [01:00<01:00, 60.65s/it]\u001b[A\u001b[A\u001b[A"
     ]
    },
    {
     "name": "stdout",
     "output_type": "stream",
     "text": [
      "done\n",
      "Counting alleles FRgam 3R\n",
      "Computing theta\n"
     ]
    },
    {
     "name": "stderr",
     "output_type": "stream",
     "text": [
      "\n",
      "\n",
      "\n",
      "100%|██████████| 2/2 [02:05<00:00, 62.83s/it]\u001b[A\u001b[A\u001b[A\n",
      "\n",
      "\n",
      " 62%|██████▎   | 10/16 [26:32<17:01, 170.26s/it]\u001b[A\u001b[A\n",
      "\n",
      "\n",
      "  0%|          | 0/2 [00:00<?, ?it/s]\u001b[A\u001b[A\u001b[A"
     ]
    },
    {
     "name": "stdout",
     "output_type": "stream",
     "text": [
      "done\n",
      "Counting alleles GQgam 3L\n",
      "Computing theta\n"
     ]
    },
    {
     "name": "stderr",
     "output_type": "stream",
     "text": [
      "\n",
      "\n",
      "\n",
      " 50%|█████     | 1/2 [00:58<00:58, 58.45s/it]\u001b[A\u001b[A\u001b[A"
     ]
    },
    {
     "name": "stdout",
     "output_type": "stream",
     "text": [
      "done\n",
      "Counting alleles GQgam 3R\n",
      "Computing theta\n"
     ]
    },
    {
     "name": "stderr",
     "output_type": "stream",
     "text": [
      "\n",
      "\n",
      "\n",
      "100%|██████████| 2/2 [01:52<00:00, 56.50s/it]\u001b[A\u001b[A\u001b[A\n",
      "\n",
      "\n",
      " 69%|██████▉   | 11/16 [28:25<12:45, 153.09s/it]\u001b[A\u001b[A\n",
      "\n",
      "\n",
      "  0%|          | 0/2 [00:00<?, ?it/s]\u001b[A\u001b[A\u001b[A"
     ]
    },
    {
     "name": "stdout",
     "output_type": "stream",
     "text": [
      "done\n",
      "Counting alleles AOcol 3L\n",
      "Computing theta\n"
     ]
    },
    {
     "name": "stderr",
     "output_type": "stream",
     "text": [
      "\n",
      "\n",
      "\n",
      " 50%|█████     | 1/2 [01:20<01:20, 80.95s/it]\u001b[A\u001b[A\u001b[A"
     ]
    },
    {
     "name": "stdout",
     "output_type": "stream",
     "text": [
      "done\n",
      "Counting alleles AOcol 3R\n",
      "Computing theta\n"
     ]
    },
    {
     "name": "stderr",
     "output_type": "stream",
     "text": [
      "\n",
      "\n",
      "\n",
      "100%|██████████| 2/2 [02:44<00:00, 82.41s/it]\u001b[A\u001b[A\u001b[A\n",
      "\n",
      "\n",
      " 75%|███████▌  | 12/16 [31:10<10:26, 156.61s/it]\u001b[A\u001b[A\n",
      "\n",
      "\n",
      "  0%|          | 0/2 [00:00<?, ?it/s]\u001b[A\u001b[A\u001b[A"
     ]
    },
    {
     "name": "stdout",
     "output_type": "stream",
     "text": [
      "done\n",
      "Counting alleles GAgam 3L\n",
      "Computing theta\n"
     ]
    },
    {
     "name": "stderr",
     "output_type": "stream",
     "text": [
      "\n",
      "\n",
      "\n",
      " 50%|█████     | 1/2 [01:29<01:29, 89.18s/it]\u001b[A\u001b[A\u001b[A"
     ]
    },
    {
     "name": "stdout",
     "output_type": "stream",
     "text": [
      "done\n",
      "Counting alleles GAgam 3R\n",
      "Computing theta\n"
     ]
    },
    {
     "name": "stderr",
     "output_type": "stream",
     "text": [
      "\n",
      "\n",
      "\n",
      "100%|██████████| 2/2 [02:57<00:00, 88.83s/it]\u001b[A\u001b[A\u001b[A\n",
      "\n",
      "\n",
      " 81%|████████▏ | 13/16 [34:07<08:08, 162.92s/it]\u001b[A\u001b[A\n",
      "\n",
      "\n",
      "  0%|          | 0/2 [00:00<?, ?it/s]\u001b[A\u001b[A\u001b[A"
     ]
    },
    {
     "name": "stdout",
     "output_type": "stream",
     "text": [
      "done\n",
      "Counting alleles GNgam 3L\n",
      "Computing theta\n"
     ]
    },
    {
     "name": "stderr",
     "output_type": "stream",
     "text": [
      "\n",
      "\n",
      "\n",
      " 50%|█████     | 1/2 [01:18<01:18, 78.31s/it]\u001b[A\u001b[A\u001b[A"
     ]
    },
    {
     "name": "stdout",
     "output_type": "stream",
     "text": [
      "done\n",
      "Counting alleles GNgam 3R\n",
      "Computing theta\n"
     ]
    },
    {
     "name": "stderr",
     "output_type": "stream",
     "text": [
      "\n",
      "\n",
      "\n",
      "100%|██████████| 2/2 [02:42<00:00, 81.03s/it]\u001b[A\u001b[A\u001b[A\n",
      "\n",
      "\n",
      " 88%|████████▊ | 14/16 [36:49<05:25, 162.67s/it]\u001b[A\u001b[A\n",
      "\n",
      "\n",
      "  0%|          | 0/2 [00:00<?, ?it/s]\u001b[A\u001b[A\u001b[A"
     ]
    },
    {
     "name": "stdout",
     "output_type": "stream",
     "text": [
      "done\n",
      "Counting alleles GNcol 3L\n",
      "Computing theta\n"
     ]
    },
    {
     "name": "stderr",
     "output_type": "stream",
     "text": [
      "\n",
      "\n",
      "\n",
      " 50%|█████     | 1/2 [01:05<01:05, 65.76s/it]\u001b[A\u001b[A\u001b[A"
     ]
    },
    {
     "name": "stdout",
     "output_type": "stream",
     "text": [
      "done\n",
      "Counting alleles GNcol 3R\n",
      "Computing theta\n"
     ]
    },
    {
     "name": "stderr",
     "output_type": "stream",
     "text": [
      "\n",
      "\n",
      "\n",
      "100%|██████████| 2/2 [02:12<00:00, 66.18s/it]\u001b[A\u001b[A\u001b[A\n",
      "\n",
      "\n",
      " 94%|█████████▍| 15/16 [39:02<02:33, 153.58s/it]\u001b[A\u001b[A\n",
      "\n",
      "\n",
      "  0%|          | 0/2 [00:00<?, ?it/s]\u001b[A\u001b[A\u001b[A"
     ]
    },
    {
     "name": "stdout",
     "output_type": "stream",
     "text": [
      "done\n",
      "Counting alleles CIcol 3L\n",
      "Computing theta\n"
     ]
    },
    {
     "name": "stderr",
     "output_type": "stream",
     "text": [
      "\n",
      "\n",
      "\n",
      " 50%|█████     | 1/2 [01:36<01:36, 96.00s/it]\u001b[A\u001b[A\u001b[A"
     ]
    },
    {
     "name": "stdout",
     "output_type": "stream",
     "text": [
      "done\n",
      "Counting alleles CIcol 3R\n",
      "Computing theta\n"
     ]
    },
    {
     "name": "stderr",
     "output_type": "stream",
     "text": [
      "\n",
      "\n",
      "\n",
      "100%|██████████| 2/2 [03:08<00:00, 94.13s/it]\u001b[A\u001b[A\u001b[A\n",
      "\n",
      "\n",
      "100%|██████████| 16/16 [42:10<00:00, 158.16s/it]\u001b[A\u001b[A"
     ]
    },
    {
     "name": "stdout",
     "output_type": "stream",
     "text": [
      "done\n"
     ]
    },
    {
     "name": "stderr",
     "output_type": "stream",
     "text": [
      "\n"
     ]
    }
   ],
   "source": [
    "pops = samples.population.unique()\n",
    "chroms = ['3L', '3R']\n",
    "\n",
    "mu=3.5e-9\n",
    "\n",
    "Ne = dict()\n",
    "Ne_Ag = dict()\n",
    "\n",
    "Ag_array  = zarr.open_array(f\"/home/sanj/ag1000g/data/ag1000g.phase2.ar1.pass/{chrom}/calldata/GT/\")\n",
    "pos  = zarr.open_array(f\"/home/sanj/ag1000g/data/ag1000g.phase2.ar1.pass/{chrom}/variants/POS\")\n",
    "print(\"-------------------  Arrays loaded ------------------------\")\n",
    "geno = allel.GenotypeChunkedArray(Ag_array)\n",
    "        \n",
    "for pop in pops:\n",
    "    for chrom in chroms:\n",
    "        \n",
    "        pop_bool = samples.population == pop\n",
    "        pop_geno = geno.compress(pop_bool, axis=1)\n",
    "        \n",
    "        print(f\"Counting alleles {pop} {chrom}\")\n",
    "        ac = pop_geno.count_alleles()\n",
    "        print(\"Computing theta\")\n",
    "        theta = allel.watterson_theta(pos, ac)\n",
    "        print('done')\n",
    "        Neff = theta/(4*mu)\n",
    "        \n",
    "        Ne[chrom] = Neff\n",
    "    \n",
    "    Ne_Ag[pop] = dict(Ne)"
   ]
  },
  {
   "cell_type": "code",
   "execution_count": 76,
   "metadata": {},
   "outputs": [
    {
     "data": {
      "text/html": [
       "<div>\n",
       "<style scoped>\n",
       "    .dataframe tbody tr th:only-of-type {\n",
       "        vertical-align: middle;\n",
       "    }\n",
       "\n",
       "    .dataframe tbody tr th {\n",
       "        vertical-align: top;\n",
       "    }\n",
       "\n",
       "    .dataframe thead th {\n",
       "        text-align: right;\n",
       "    }\n",
       "</style>\n",
       "<table border=\"1\" class=\"dataframe\">\n",
       "  <thead>\n",
       "    <tr style=\"text-align: right;\">\n",
       "      <th></th>\n",
       "      <th>3L</th>\n",
       "      <th>3R</th>\n",
       "    </tr>\n",
       "  </thead>\n",
       "  <tbody>\n",
       "    <tr>\n",
       "      <th>GHcol</th>\n",
       "      <td>952726.0</td>\n",
       "      <td>952726.0</td>\n",
       "    </tr>\n",
       "    <tr>\n",
       "      <th>GHgam</th>\n",
       "      <td>816605.0</td>\n",
       "      <td>816605.0</td>\n",
       "    </tr>\n",
       "    <tr>\n",
       "      <th>BFgam</th>\n",
       "      <td>1397081.0</td>\n",
       "      <td>1397081.0</td>\n",
       "    </tr>\n",
       "    <tr>\n",
       "      <th>BFcol</th>\n",
       "      <td>1242037.0</td>\n",
       "      <td>1242037.0</td>\n",
       "    </tr>\n",
       "    <tr>\n",
       "      <th>UGgam</th>\n",
       "      <td>1321118.0</td>\n",
       "      <td>1321118.0</td>\n",
       "    </tr>\n",
       "    <tr>\n",
       "      <th>GM</th>\n",
       "      <td>945927.0</td>\n",
       "      <td>945927.0</td>\n",
       "    </tr>\n",
       "    <tr>\n",
       "      <th>GW</th>\n",
       "      <td>1259574.0</td>\n",
       "      <td>1259574.0</td>\n",
       "    </tr>\n",
       "    <tr>\n",
       "      <th>KE</th>\n",
       "      <td>237080.0</td>\n",
       "      <td>237080.0</td>\n",
       "    </tr>\n",
       "    <tr>\n",
       "      <th>CMgam</th>\n",
       "      <td>1767792.0</td>\n",
       "      <td>1767792.0</td>\n",
       "    </tr>\n",
       "    <tr>\n",
       "      <th>FRgam</th>\n",
       "      <td>321054.0</td>\n",
       "      <td>321054.0</td>\n",
       "    </tr>\n",
       "    <tr>\n",
       "      <th>GQgam</th>\n",
       "      <td>670849.0</td>\n",
       "      <td>670849.0</td>\n",
       "    </tr>\n",
       "    <tr>\n",
       "      <th>AOcol</th>\n",
       "      <td>489332.0</td>\n",
       "      <td>489332.0</td>\n",
       "    </tr>\n",
       "    <tr>\n",
       "      <th>GAgam</th>\n",
       "      <td>664073.0</td>\n",
       "      <td>664073.0</td>\n",
       "    </tr>\n",
       "    <tr>\n",
       "      <th>GNgam</th>\n",
       "      <td>1152839.0</td>\n",
       "      <td>1152839.0</td>\n",
       "    </tr>\n",
       "    <tr>\n",
       "      <th>GNcol</th>\n",
       "      <td>553950.0</td>\n",
       "      <td>553950.0</td>\n",
       "    </tr>\n",
       "    <tr>\n",
       "      <th>CIcol</th>\n",
       "      <td>980350.0</td>\n",
       "      <td>980350.0</td>\n",
       "    </tr>\n",
       "  </tbody>\n",
       "</table>\n",
       "</div>"
      ],
      "text/plain": [
       "              3L         3R\n",
       "GHcol   952726.0   952726.0\n",
       "GHgam   816605.0   816605.0\n",
       "BFgam  1397081.0  1397081.0\n",
       "BFcol  1242037.0  1242037.0\n",
       "UGgam  1321118.0  1321118.0\n",
       "GM      945927.0   945927.0\n",
       "GW     1259574.0  1259574.0\n",
       "KE      237080.0   237080.0\n",
       "CMgam  1767792.0  1767792.0\n",
       "FRgam   321054.0   321054.0\n",
       "GQgam   670849.0   670849.0\n",
       "AOcol   489332.0   489332.0\n",
       "GAgam   664073.0   664073.0\n",
       "GNgam  1152839.0  1152839.0\n",
       "GNcol   553950.0   553950.0\n",
       "CIcol   980350.0   980350.0"
      ]
     },
     "execution_count": 76,
     "metadata": {},
     "output_type": "execute_result"
    }
   ],
   "source": [
    "Ne_theta = pd.DataFrame.from_dict(Ne_Ag).T\n",
    "Ne_theta.round()"
   ]
  },
  {
   "cell_type": "markdown",
   "metadata": {},
   "source": [
    "### References"
   ]
  },
  {
   "cell_type": "code",
   "execution_count": null,
   "metadata": {},
   "outputs": [],
   "source": []
  }
 ],
 "metadata": {
  "kernelspec": {
   "display_name": "Python 3",
   "language": "python",
   "name": "python3"
  },
  "language_info": {
   "codemirror_mode": {
    "name": "ipython",
    "version": 3
   },
   "file_extension": ".py",
   "mimetype": "text/x-python",
   "name": "python",
   "nbconvert_exporter": "python",
   "pygments_lexer": "ipython3",
   "version": "3.7.3"
  }
 },
 "nbformat": 4,
 "nbformat_minor": 2
}
